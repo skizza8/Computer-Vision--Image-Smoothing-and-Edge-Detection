{
 "cells": [
  {
   "cell_type": "markdown",
   "metadata": {},
   "source": [
    "Name: Kizza Samuel\n",
    "Student Number : 2100723039\n",
    "REG. NO: 2021/HD05/23039U"
   ]
  },
  {
   "cell_type": "markdown",
   "metadata": {},
   "source": [
    "Image Smoothing and Sharpening"
   ]
  },
  {
   "cell_type": "code",
   "execution_count": 1,
   "metadata": {},
   "outputs": [],
   "source": [
    "import cv2\n",
    "import numpy as np"
   ]
  },
  {
   "cell_type": "code",
   "execution_count": 2,
   "metadata": {},
   "outputs": [],
   "source": [
    "# Read an Image\n",
    "image = cv2.imread('original_images/frame18757.jpg')\n",
    "\n",
    "# Print error message if image is null\n",
    "if image is None:\n",
    "    print('Could not read image')\n"
   ]
  },
  {
   "cell_type": "code",
   "execution_count": 4,
   "metadata": {},
   "outputs": [],
   "source": [
    "# View the Image\n",
    "cv2.imshow('Original', image)\n",
    "cv2.waitKey()\n",
    "#cv2.imwrite('identity.jpg', identity)\n",
    "cv2.destroyAllWindows()"
   ]
  },
  {
   "cell_type": "markdown",
   "metadata": {},
   "source": [
    "Using Image Filters with 3X3 Matrix"
   ]
  },
  {
   "cell_type": "code",
   "execution_count": 5,
   "metadata": {},
   "outputs": [],
   "source": [
    "#using the blur function - Average Blur\n",
    "\n",
    "img_blur = cv2.blur(src=image, ksize=(3,3)) # Using the blur function to blur an image where ksize is the kernel size"
   ]
  },
  {
   "cell_type": "code",
   "execution_count": 7,
   "metadata": {},
   "outputs": [],
   "source": [
    "cv2.imshow('Original', image)\n",
    "cv2.imshow('Blur func', img_blur)\n",
    "    \n",
    "cv2.waitKey()\n",
    "cv2.imwrite('new_images/average_filter_3.jpg', img_blur)\n",
    "cv2.destroyAllWindows()"
   ]
  },
  {
   "cell_type": "code",
   "execution_count": 8,
   "metadata": {},
   "outputs": [],
   "source": [
    "# Gaussian Blur\n",
    "gaussian_blur = cv2.GaussianBlur(src=image, ksize=(3,3), sigmaX=0, sigmaY=0)"
   ]
  },
  {
   "cell_type": "code",
   "execution_count": 9,
   "metadata": {},
   "outputs": [],
   "source": [
    "cv2.imshow('Original', image)\n",
    "cv2.imshow('Gausssian Blur', gaussian_blur)\n",
    "    \n",
    "cv2.waitKey()\n",
    "cv2.imwrite('new_images/gaussian_filter_3.jpg', gaussian_blur)\n",
    "cv2.destroyAllWindows()"
   ]
  },
  {
   "cell_type": "code",
   "execution_count": 10,
   "metadata": {},
   "outputs": [],
   "source": [
    "# Median Blur\n",
    "median_blur = cv2.medianBlur(src=image, ksize=3)"
   ]
  },
  {
   "cell_type": "code",
   "execution_count": 11,
   "metadata": {},
   "outputs": [],
   "source": [
    "cv2.imshow('Original', image)\n",
    "cv2.imshow('Median Blur', median_blur)\n",
    "    \n",
    "cv2.waitKey()\n",
    "cv2.imwrite('new_images/median_filter_3.jpg', median_blur)\n",
    "cv2.destroyAllWindows()"
   ]
  },
  {
   "cell_type": "markdown",
   "metadata": {},
   "source": [
    "Using Image Filters with 7X7"
   ]
  },
  {
   "cell_type": "code",
   "execution_count": 12,
   "metadata": {},
   "outputs": [],
   "source": [
    "#using the blur function - Average Blur\n",
    "\n",
    "img_blur = cv2.blur(src=image, ksize=(7,7)) # Using the blur function to blur an image where ksize is the kernel size\n",
    "\n",
    "cv2.imshow('Original', image)\n",
    "cv2.imshow('Blur func', img_blur)\n",
    "    \n",
    "cv2.waitKey()\n",
    "cv2.imwrite('new_images/average_filter_7.jpg', img_blur)\n",
    "cv2.destroyAllWindows()"
   ]
  },
  {
   "cell_type": "code",
   "execution_count": 13,
   "metadata": {},
   "outputs": [],
   "source": [
    "# Gaussian Blur\n",
    "gaussian_blur = cv2.GaussianBlur(src=image, ksize=(7,7), sigmaX=0, sigmaY=0)\n",
    "\n",
    "cv2.imshow('Original', image)\n",
    "cv2.imshow('Gausssian Blur', gaussian_blur)\n",
    "    \n",
    "cv2.waitKey()\n",
    "cv2.imwrite('new_images/gaussian_filter_7.jpg', gaussian_blur)\n",
    "cv2.destroyAllWindows()"
   ]
  },
  {
   "cell_type": "code",
   "execution_count": 14,
   "metadata": {},
   "outputs": [],
   "source": [
    "# Median Blur\n",
    "median_blur = cv2.medianBlur(src=image, ksize=7)\n",
    "\n",
    "cv2.imshow('Original', image)\n",
    "cv2.imshow('Median Blur', median_blur)\n",
    "    \n",
    "cv2.waitKey()\n",
    "cv2.imwrite('new_images/median_filter_7.jpg', median_blur)\n",
    "cv2.destroyAllWindows()"
   ]
  },
  {
   "cell_type": "markdown",
   "metadata": {},
   "source": [
    "Image Sharpening"
   ]
  },
  {
   "cell_type": "code",
   "execution_count": 15,
   "metadata": {},
   "outputs": [],
   "source": [
    "\"\"\"\n",
    "Apply Bilateral Filtering\n",
    "\"\"\"\n",
    "# Using the function bilateralFilter() where d is diameter of each...\n",
    "# ...pixel neighborhood that is used during filtering.\n",
    "# sigmaColor is used to filter sigma in the color space.\n",
    "# sigmaSpace is used to filter sigma in the coordinate space.\n",
    "bilateral_filter = cv2.bilateralFilter(src=image, d=9, sigmaColor=500, sigmaSpace=500)\n",
    "\n",
    "cv2.imshow('Original', image)\n",
    "cv2.imshow('Bilateral Filtering', bilateral_filter)\n",
    "\n",
    "cv2.waitKey(0)\n",
    "#cv2.imwrite('bilateral_filtering.jpg', bilateral_filter)\n",
    "cv2.destroyAllWindows()"
   ]
  },
  {
   "cell_type": "markdown",
   "metadata": {},
   "source": [
    "\n",
    "**Assess the performance of the following image filters in relation to image smoothing(Blurring) and sharpening.**<br><br>\n",
    "**Median filter** <br>\n",
    "\n",
    "*Since the median value must be the value of one of the pixels in the neighborhood, the median filter does not create new unrealistic pixel values when the filter straddles an edge. For this reason, the median filter is much better at preserving sharp edges than the mean filter.\n",
    "It is a non-linear filter that is mostly used as a simple way to reduce noise in an image. It claims to fame (over Gaussian for noise reduction) is that it removes noise while keeping edges relatively sharp.*<br>\n",
    "\n",
    "**Average filter** <br> \n",
    "*Mean filter is fast and probably the best solution if you want to remove noise from image. It is bad solution if you want to separate frequencies present in the image.*<br>\n",
    "\n",
    "**Gaussian filter**<br>\n",
    "*Gaussian smoothing produces an image that is rotationally symmetric. It is applied the same no matter what direction you go in.* <br><br>\n",
    "\n",
    "**Compare and contrast the performance** <br>\n",
    "*If you have a use case that requires you to examine fine detail, Gaussian smoothing might make that a lot harder.*\n",
    "*Salt-and-pepper noise is defined as sparsely occurring white and black pixels. Median filters typically do a better* *job than Gaussian smoothing at handling salt-and-pepper noise.*<br>\n",
    "*Gaussian blurring is a linear operation. However, it does not preserve edges in the input image - the value of sigma* *governs the degree of smoothing, and eventually how the edges are preserved.*<br>\n",
    "\n",
    "*median filter is edge preserving*<br>\n",
    "\n",
    "*Gaussian filters may blur the edges while median filters are best for salt and pepper type of noise.*<br>\n",
    "\n",
    "*Gaussian filter uses convolution and is very slow. If you implement Mean filter using recursive formula it will run like lightning. Applying Mean filter many times you can speed up Gaussian implementation 1000 times.*<br><br>\n",
    "\n",
    "**By varying the filters from 3x3 to 7x7 and α =1 to 5. What effect does it have on the output?**<br>\n",
    "*The value of sigma governs the degree of smoothing, and eventually how the edges are preserved* <br>\n",
    "*An increase in the value of sigma increases the smoothing of the image.*<br>\n",
    "*An increase in the matrix from 3x3 to 7X7 increases the blurriness of an image.*<br>\n",
    "\n"
   ]
  }
 ],
 "metadata": {
  "kernelspec": {
   "display_name": "Python 3.10.2 64-bit",
   "language": "python",
   "name": "python3"
  },
  "language_info": {
   "codemirror_mode": {
    "name": "ipython",
    "version": 3
   },
   "file_extension": ".py",
   "mimetype": "text/x-python",
   "name": "python",
   "nbconvert_exporter": "python",
   "pygments_lexer": "ipython3",
   "version": "3.10.2"
  },
  "orig_nbformat": 4,
  "vscode": {
   "interpreter": {
    "hash": "5904c03de541aee3171dc2d946da9df85831543bc9d72f4542217b15b1550de6"
   }
  }
 },
 "nbformat": 4,
 "nbformat_minor": 2
}
