{
 "cells": [
  {
   "cell_type": "code",
   "execution_count": 1,
   "metadata": {},
   "outputs": [],
   "source": [
    "import cv2\n",
    "import numpy as np"
   ]
  },
  {
   "cell_type": "code",
   "execution_count": 2,
   "metadata": {},
   "outputs": [],
   "source": [
    "image = cv2.imread('original_images/frame18757.jpg')\n",
    "\n",
    "# Print error message if image is null\n",
    "if image is None:\n",
    "    print('Could not read image')"
   ]
  },
  {
   "cell_type": "code",
   "execution_count": 3,
   "metadata": {},
   "outputs": [],
   "source": [
    "# Convert to graycsale\n",
    "img_gray = cv2.cvtColor(image, cv2.COLOR_BGR2GRAY)\n",
    "cv2.imshow('image grey', img_gray)\n",
    "cv2.waitKey()\n",
    "cv2.destroyAllWindows()"
   ]
  },
  {
   "cell_type": "code",
   "execution_count": 4,
   "metadata": {},
   "outputs": [],
   "source": [
    "# Blur the image for better edge detection\n",
    "img_blur = cv2.GaussianBlur(img_gray, (3,3), 0) \n",
    "cv2.imshow('image blur', img_blur)\n",
    "cv2.waitKey()\n",
    "cv2.destroyAllWindows()"
   ]
  },
  {
   "cell_type": "markdown",
   "metadata": {},
   "source": [
    "Sobel Edge Detection"
   ]
  },
  {
   "cell_type": "code",
   "execution_count": 5,
   "metadata": {},
   "outputs": [],
   "source": [
    "# Sobel Edge Detection\n",
    "sobelx = cv2.Sobel(src=img_blur, ddepth=cv2.CV_64F, dx=1, dy=0, ksize=5) # Sobel Edge Detection on the X axis\n",
    "\n",
    "cv2.imshow('sobel x', sobelx)\n",
    "cv2.waitKey()\n",
    "cv2.destroyAllWindows()"
   ]
  },
  {
   "cell_type": "code",
   "execution_count": 6,
   "metadata": {},
   "outputs": [],
   "source": [
    "# Sobel Edge Detection\n",
    "sobely = cv2.Sobel(src=img_blur, ddepth=cv2.CV_64F, dx=0, dy=1, ksize=5) # Sobel Edge Detection on the X axis\n",
    "\n",
    "cv2.imshow('sobel y', sobely)\n",
    "cv2.waitKey()\n",
    "cv2.destroyAllWindows()"
   ]
  },
  {
   "cell_type": "code",
   "execution_count": 7,
   "metadata": {},
   "outputs": [],
   "source": [
    "# Sobel Edge Detection\n",
    "sobelxy = cv2.Sobel(src=img_blur, ddepth=cv2.CV_64F, dx=1, dy=1, ksize=5) # Sobel Edge Detection on the X axis\n",
    "\n",
    "cv2.imshow('sobel x y', sobelxy)\n",
    "cv2.waitKey()\n",
    "cv2.destroyAllWindows()"
   ]
  },
  {
   "cell_type": "markdown",
   "metadata": {},
   "source": [
    "Roberts Edge detector"
   ]
  },
  {
   "cell_type": "code",
   "execution_count": 10,
   "metadata": {},
   "outputs": [],
   "source": [
    "from scipy import ndimage\n",
    "\n",
    "image = cv2.imread('original_images/frame18757.jpg', 0)\n",
    "roberts_cross_v = np.array( [[1, 0 ],\n",
    "\t\t\t\t\t\t\t[0,-1 ]] )\n",
    "\n",
    "roberts_cross_h = np.array( [[ 0, 1 ],\n",
    "\t\t\t\t\t\t\t[ -1, 0 ]] )\n",
    "\n",
    "img_roberts = image.astype('float64')\n",
    "img_roberts/=255.0\n",
    "vertical = ndimage.convolve( img_roberts, roberts_cross_v )\n",
    "horizontal = ndimage.convolve( img_roberts, roberts_cross_h )\n",
    "\n",
    "edged_img = np.sqrt( np.square(horizontal) + np.square(vertical))\n",
    "edged_img*=255"
   ]
  },
  {
   "cell_type": "code",
   "execution_count": 11,
   "metadata": {},
   "outputs": [],
   "source": [
    "cv2.imshow('Roberts Image', edged_img)\n",
    "cv2.waitKey()\n",
    "cv2.destroyAllWindows()"
   ]
  },
  {
   "cell_type": "markdown",
   "metadata": {},
   "source": [
    "Prewitt Edge Detector"
   ]
  },
  {
   "cell_type": "code",
   "execution_count": 12,
   "metadata": {},
   "outputs": [],
   "source": [
    "img_prewit = cv2.imread('original_images/frame18757.jpg', cv2.COLOR_BGR2GRAY)\n",
    "rgb_img_prewit = cv2.cvtColor(img_prewit, cv2.COLOR_BGR2RGB)\n",
    "\n",
    "# Grayscale image processing\n",
    "grayImage_prewit = cv2.cvtColor(img_prewit, cv2.COLOR_BGR2GRAY)\n",
    "\n",
    "# Prewitt operator\n",
    "kernelx = np.array([[1, 1, 1], [0 ,0 ,0], [- 1, - 1,- 1]],dtype=int)\n",
    "kernely = np.array([[- 1, 0, 1], [- 1 ,0 ,1], [- 1, 0, 1]],dtype=int)\n",
    "\n",
    "x = cv2.filter2D(grayImage_prewit, cv2.CV_16S, kernelx)\n",
    "y = cv2.filter2D(grayImage_prewit, cv2.CV_16S, kernely)\n",
    "\n",
    "# turn to uint8, image fusion\n",
    "absX = cv2.convertScaleAbs(x)\n",
    "absY = cv2.convertScaleAbs(y)\n",
    "Prewitt = cv2.addWeighted(absX, 0.5, absY, 0.5,0)"
   ]
  },
  {
   "cell_type": "code",
   "execution_count": 13,
   "metadata": {},
   "outputs": [],
   "source": [
    "cv2.imshow('Prewitt Image', Prewitt)\n",
    "cv2.waitKey()\n",
    "cv2.destroyAllWindows()"
   ]
  },
  {
   "cell_type": "markdown",
   "metadata": {},
   "source": [
    "**Advantages of Sobel Detector**<br>\n",
    "<ol>\n",
    "<li>Simple and time efficient computation</li>\n",
    "<li>Very easy at searching for smooth edges</li>\n",
    "</ol>\n",
    "\n",
    "**Disadvantages of Sobel Edge Detector**<br>\n",
    "<ol>\n",
    "<li>Diagonal direction points are not preserved always</li>\n",
    "<li>Sensitive to noise</li>\n",
    "<li>Not very accurate in edge detection</li>\n",
    "<li>Detect with thick and rough edges does not give appropriate results</li>\n",
    "</ol>\n",
    "\n",
    "**Advantages of Prewitt Edge Detector**<br>\n",
    "<ol>\n",
    "<li>Good performance on detecting vertical and horizontal edges</li>\n",
    "<li>Best operator to detect the orientation of an image</li>\n",
    "</ol>\n",
    "\n",
    "**Disadvantages of Prewitt Edge Detector**<br>\n",
    "<ol>\n",
    "<li>The magnitude of coefficient is fixed and cannot be changed</li>\n",
    "<li>Diagonal direction points are not preserved always</li>\n",
    "</ol>\n",
    "\n",
    "**Advantages of Robert Edge Detector**<br>\n",
    "<ol>\n",
    "<li>Detection of edges and orientation are very easy</li>\n",
    "<li>Diagonal direction points are preserved</li>\n",
    "</ol>\n",
    "\n",
    "**Disadvantages of Robert Edge Detector**<br>\n",
    "<ol>\n",
    "<li>Very sensitive to noise</li>\n",
    "<li>Not very accurate in edge detection</li>\n",
    "</ol>\n"
   ]
  }
 ],
 "metadata": {
  "kernelspec": {
   "display_name": "Python 3.10.2 64-bit",
   "language": "python",
   "name": "python3"
  },
  "language_info": {
   "codemirror_mode": {
    "name": "ipython",
    "version": 3
   },
   "file_extension": ".py",
   "mimetype": "text/x-python",
   "name": "python",
   "nbconvert_exporter": "python",
   "pygments_lexer": "ipython3",
   "version": "3.10.2"
  },
  "orig_nbformat": 4,
  "vscode": {
   "interpreter": {
    "hash": "5904c03de541aee3171dc2d946da9df85831543bc9d72f4542217b15b1550de6"
   }
  }
 },
 "nbformat": 4,
 "nbformat_minor": 2
}
